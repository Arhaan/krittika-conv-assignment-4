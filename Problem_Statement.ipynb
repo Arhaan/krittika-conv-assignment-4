{
 "cells": [
  {
   "cell_type": "markdown",
   "id": "d5c6e7d4",
   "metadata": {},
   "source": [
    "# Krittika Convener Selection\n",
    "## Python Assignment\n",
    "\n",
    "1. You may find the KSP tutorials useful: https://github.com/krittikaiitb/tutorials - Tutorials 1,2,3, and 4 are particularly relevant. These cover basic python, numpy, functions in python and matplotlib respectively.\n",
    "\n",
    "2. A helpful reminder that executing a cell with help (for example: help(np.loadtxt) or np.loadtxt?) will show the documentation for that function.\n",
    "\n",
    "3. The use of internet is completely ALLOWED for solving this assignment.\n",
    "\n",
    "4. Feel free to use multiple cells for your solutions, this would make your code easier to understand in a step-by-step fashion. But keep them separate for each question (don't use a cell to solve Q1 after Q2).\n",
    "\n",
    "5. Try to keep your code neat and make use of comments and/or markdown cells to explain what you have done."
   ]
  },
  {
   "cell_type": "code",
   "execution_count": 103,
   "id": "ee984c1c",
   "metadata": {},
   "outputs": [],
   "source": [
    "# try to put all your imports here\n",
    "import pandas as pd\n",
    "import matplotlib.pyplot as plt\n",
    "import seaborn\n",
    "import numpy as np\n",
    "import math\n",
    "import scipy"
   ]
  },
  {
   "cell_type": "markdown",
   "id": "f5528a29",
   "metadata": {},
   "source": [
    "### Q1: Parsing Form Responses\n",
    "Suppose that you are a convener and it has been a few months into your tenure. We have organized an event focused at the newly joining freshers(your juniors).\n",
    "\n",
    "We floated a Google form to collect their details and get them registered. We planned to contact them all via WebMail to send them details of the event.\n",
    "\n",
    "While going through the responses, you discover that your co-convener forgot to filter inputs in the form! There appear to be many invalid roll numbers - we cannot contact these students via WebMail. Here are the first few entries:\n",
    "\n",
    "| Sr. No. | Name | Roll Number | Contact Number |\n",
    "|---------|------|-------------|----------------|\n",
    "| 1       | MV   | 220070044   | 986937546      |\n",
    "| 2       | DV   | 22b280013   | 961101307      |\n",
    "| 3       | RR   | 21070042    | 908204532      |\n",
    "| 4       | YB   | 220030019   | 947226579      |\n",
    "\n",
    "As you can see, we can already see an erroneous LDAP in the $3$rd input.\n",
    "\n",
    "Your task here is to find out the submissions with wrong roll numbers and filter them out. We would reach out to such people using their contact numbers. Your final output should be the names and contact numbers of these people.\n",
    "\n",
    "*PS : As you might suspect, this data is sourced from an actual event from our tenure. It has been anonymized and the errors have been exaggerated :)*"
   ]
  },
  {
   "cell_type": "code",
   "execution_count": 3,
   "id": "00a71113",
   "metadata": {},
   "outputs": [],
   "source": [
    "file1 = 'Dataset_Q1.csv' #this is the CSV file that countains all the responses"
   ]
  },
  {
   "cell_type": "markdown",
   "id": "8919e459",
   "metadata": {},
   "source": [
    "Feel free to use any libraries/standard functions that you might need to solve this problem."
   ]
  },
  {
   "cell_type": "code",
   "execution_count": 23,
   "id": "ea8f7e8b",
   "metadata": {},
   "outputs": [
    {
     "data": {
      "text/html": [
       "<div>\n",
       "<style scoped>\n",
       "    .dataframe tbody tr th:only-of-type {\n",
       "        vertical-align: middle;\n",
       "    }\n",
       "\n",
       "    .dataframe tbody tr th {\n",
       "        vertical-align: top;\n",
       "    }\n",
       "\n",
       "    .dataframe thead th {\n",
       "        text-align: right;\n",
       "    }\n",
       "</style>\n",
       "<table border=\"1\" class=\"dataframe\">\n",
       "  <thead>\n",
       "    <tr style=\"text-align: right;\">\n",
       "      <th></th>\n",
       "      <th>Sr. No.</th>\n",
       "      <th>Name</th>\n",
       "      <th>Roll Number</th>\n",
       "      <th>Contact Number</th>\n",
       "    </tr>\n",
       "  </thead>\n",
       "  <tbody>\n",
       "    <tr>\n",
       "      <th>2</th>\n",
       "      <td>3</td>\n",
       "      <td>RR</td>\n",
       "      <td>21070042</td>\n",
       "      <td>908204532</td>\n",
       "    </tr>\n",
       "    <tr>\n",
       "      <th>8</th>\n",
       "      <td>9</td>\n",
       "      <td>KA</td>\n",
       "      <td>22D070027</td>\n",
       "      <td>909372264</td>\n",
       "    </tr>\n",
       "    <tr>\n",
       "      <th>10</th>\n",
       "      <td>11</td>\n",
       "      <td>BP</td>\n",
       "      <td>2230100228</td>\n",
       "      <td>980849718</td>\n",
       "    </tr>\n",
       "    <tr>\n",
       "      <th>16</th>\n",
       "      <td>17</td>\n",
       "      <td>AP</td>\n",
       "      <td>22D170020</td>\n",
       "      <td>932737329</td>\n",
       "    </tr>\n",
       "    <tr>\n",
       "      <th>20</th>\n",
       "      <td>21</td>\n",
       "      <td>SP</td>\n",
       "      <td>22026005</td>\n",
       "      <td>936914944</td>\n",
       "    </tr>\n",
       "    <tr>\n",
       "      <th>31</th>\n",
       "      <td>32</td>\n",
       "      <td>JS</td>\n",
       "      <td>21070024</td>\n",
       "      <td>979691534</td>\n",
       "    </tr>\n",
       "    <tr>\n",
       "      <th>48</th>\n",
       "      <td>49</td>\n",
       "      <td>PM</td>\n",
       "      <td>20350117</td>\n",
       "      <td>996497703</td>\n",
       "    </tr>\n",
       "    <tr>\n",
       "      <th>55</th>\n",
       "      <td>56</td>\n",
       "      <td>VN</td>\n",
       "      <td>2200700008</td>\n",
       "      <td>918746674</td>\n",
       "    </tr>\n",
       "    <tr>\n",
       "      <th>59</th>\n",
       "      <td>60</td>\n",
       "      <td>SN</td>\n",
       "      <td>2241800005</td>\n",
       "      <td>902766352</td>\n",
       "    </tr>\n",
       "    <tr>\n",
       "      <th>63</th>\n",
       "      <td>64</td>\n",
       "      <td>AR</td>\n",
       "      <td>22026008</td>\n",
       "      <td>992993873</td>\n",
       "    </tr>\n",
       "    <tr>\n",
       "      <th>82</th>\n",
       "      <td>83</td>\n",
       "      <td>SS</td>\n",
       "      <td>21020016</td>\n",
       "      <td>914286714</td>\n",
       "    </tr>\n",
       "    <tr>\n",
       "      <th>85</th>\n",
       "      <td>86</td>\n",
       "      <td>DS</td>\n",
       "      <td>320003699</td>\n",
       "      <td>914030157</td>\n",
       "    </tr>\n",
       "    <tr>\n",
       "      <th>94</th>\n",
       "      <td>95</td>\n",
       "      <td>AB</td>\n",
       "      <td>2200020034</td>\n",
       "      <td>934220771</td>\n",
       "    </tr>\n",
       "    <tr>\n",
       "      <th>101</th>\n",
       "      <td>102</td>\n",
       "      <td>MM</td>\n",
       "      <td>22007054</td>\n",
       "      <td>918359105</td>\n",
       "    </tr>\n",
       "  </tbody>\n",
       "</table>\n",
       "</div>"
      ],
      "text/plain": [
       "     Sr. No. Name Roll Number  Contact Number\n",
       "2          3   RR    21070042       908204532\n",
       "8          9   KA  22D070027        909372264\n",
       "10        11   BP  2230100228       980849718\n",
       "16        17   AP  22D170020        932737329\n",
       "20        21   SP    22026005       936914944\n",
       "31        32   JS    21070024       979691534\n",
       "48        49   PM    20350117       996497703\n",
       "55        56   VN  2200700008       918746674\n",
       "59        60   SN  2241800005       902766352\n",
       "63        64   AR    22026008       992993873\n",
       "82        83   SS    21020016       914286714\n",
       "85        86   DS   320003699       914030157\n",
       "94        95   AB  2200020034       934220771\n",
       "101      102   MM    22007054       918359105"
      ]
     },
     "execution_count": 23,
     "metadata": {},
     "output_type": "execute_result"
    }
   ],
   "source": [
    "# Solution code\n",
    "data = pd.read_csv(file1)\n",
    "\n",
    "def valid_roll(row):\n",
    "    roll = row[\"Roll Number\"]\n",
    "    if len(roll) != 9:\n",
    "        return False\n",
    "    if roll[0:2] not in [\"17\", \"18\", \"19\", \"20\", \"21\", \"22\"]:\n",
    "        return False\n",
    "    return True\n",
    "\n",
    "errors = data[~data.apply(valid_roll, axis = 1)]\n",
    "\n",
    "cleaned_data = data[data.apply(valid_roll, axis = 1)]\n",
    "\n",
    "errors"
   ]
  },
  {
   "cell_type": "markdown",
   "id": "801e187a",
   "metadata": {},
   "source": [
    "#### Bonus part:\n",
    "Amongst the valid entries, what proportion are actually freshers? Remember that we intended to target them with this event. The majority seem to be freshers but you will also find some second and third year students. You can identify each of these groups by the first two digits of their roll numbers. \n",
    "\n",
    "Your task is to graphically depict the number of applicants across the three batches."
   ]
  },
  {
   "cell_type": "code",
   "execution_count": 66,
   "id": "e4ea5290",
   "metadata": {},
   "outputs": [
    {
     "data": {
      "text/plain": [
       "array([1, 1, 1, 3, 1, 1, 1, 2, 1, 3, 3, 1, 3, 1, 1, 1, 1, 2, 2, 2, 2, 1,\n",
       "       1, 1, 1, 1, 1, 1, 2, 1, 1, 1, 1, 2, 1, 1, 1, 1, 2, 2, 2, 1, 1, 3,\n",
       "       2, 1, 1, 1, 1, 1, 1, 2, 1, 2, 2, 1, 1, 1, 1, 2, 1, 1, 1, 1, 1, 1,\n",
       "       3, 1, 1, 1, 2, 1, 1, 1, 1, 1, 1, 1, 1, 1, 1, 1, 1, 1, 1, 1, 2, 1,\n",
       "       1])"
      ]
     },
     "execution_count": 66,
     "metadata": {},
     "output_type": "execute_result"
    }
   ],
   "source": [
    "# Solution code\n",
    "def get_year(row):\n",
    "    roll = row[\"Roll Number\"]\n",
    "    year = roll[0:2]\n",
    "    if year == \"22\":\n",
    "        return 1\n",
    "    if year == \"21\":\n",
    "        return 2\n",
    "    if year == \"20\":\n",
    "        return 3\n",
    "\n",
    "years = np.array(cleaned_data.apply(get_year, axis = 1))\n",
    "years"
   ]
  },
  {
   "cell_type": "code",
   "execution_count": 83,
   "id": "377bb4c8",
   "metadata": {},
   "outputs": [
    {
     "data": {
      "image/png": "[encoded data removed]",
      "text/plain": [
       "<Figure size 432x288 with 1 Axes>"
      ]
     },
     "metadata": {
      "needs_background": "light"
     },
     "output_type": "display_data"
    }
   ],
   "source": [
    "seaborn.histplot(data=years, discrete=True)\n",
    "plt.xticks([1,2,3])\n",
    "plt.xlabel(\"Year\")\n",
    "plt.show()"
   ]
  },
  {
   "cell_type": "markdown",
   "id": "9d1911c6",
   "metadata": {},
   "source": [
    "### Q2: A New Discovery\n",
    "During one of our regular stargazing sessions, you and your co-conveners discover a new blip of light that shouldn't be there. After examining it a bit, you realise that this object is not quite like anything the world has seen before. You share your data with club seniors and make a startling find - its the first of its kind of a completely new class of objects. An ex-secy of the club, Siddhant Tripathy, analyses it extensively and declares that its actually the first ever **endoplanet** to be found. You and your team are now international celebrities, but its time to organise an event so that people from insti can see this.\n",
    "\n",
    "Your task is to find out when exactly Tripps' endoplanet would be at its brightest and organise a stargazing session on that date so that everyone can see it for themselves. You have data from a month of observations of this object and you need to extrapolate it to find the peak."
   ]
  },
  {
   "cell_type": "code",
   "execution_count": 85,
   "id": "9e7d5141",
   "metadata": {},
   "outputs": [],
   "source": [
    "file2 = 'Dataset_Q2.csv'"
   ]
  },
  {
   "cell_type": "markdown",
   "id": "99dc43d3",
   "metadata": {},
   "source": [
    "According to your analysis, this object is in a special orbit that gives it a roughly Gaussian light curve i.e. the plot of [magnitude](https://en.wikipedia.org/wiki/Apparent_magnitude) v/s time roughly follows an inverted Gaussian function. Recall that a generic Gaussian function with unit amplitude is given by\n",
    "\n",
    "$$f(x) = \\frac{1}{\\sigma\\sqrt{2\\pi}}\\exp\\left({-\\frac{1}{2}{\\left(\\frac{x-\\mu}{\\sigma}\\right)}^2}\\right)$$ \n",
    "\n",
    "where $\\mu$ is the mean of the distribution it describes and $\\sigma$ is the standard deviation. More about it [here](https://archive.lib.msu.edu/crcmath/math/math/g/g087.htm).\n",
    "\n",
    "Your task is to find the date at which the endoplanet will be at it's brightest, along with how bright its expected to be. Also plot the original data along with the fitted curve.\n",
    "\n",
    "You can do this by fitting a gaussian to the light curve data and locating its extremum. You may find `scipy.optimize.curve_fit` useful. \n",
    "\n",
    "**Important** : Our fit function must be a Gaussian with a vertical offset. The problem is that `curve_fit` tends to misbehave in this particular example when you ask it to guess that offset, so assume it to be $9.0$ to solve this problem. This, of course, implies that the baseline magnitude of the object is $9.0$"
   ]
  },
  {
   "cell_type": "code",
   "execution_count": 147,
   "id": "cf3750af",
   "metadata": {},
   "outputs": [
    {
     "data": {
      "image/png": "[encoded data removed]",
      "text/plain": [
       "<Figure size 432x288 with 1 Axes>"
      ]
     },
     "metadata": {
      "needs_background": "light"
     },
     "output_type": "display_data"
    },
    {
     "data": {
      "text/plain": [
       "47.610541624979355"
      ]
     },
     "execution_count": 147,
     "metadata": {},
     "output_type": "execute_result"
    }
   ],
   "source": [
    "# Solution code\n",
    "data = pd.read_csv(file2)\n",
    "\n",
    "night_nos = np.array(data[\"Night No.\"])\n",
    "magnitudes = np.array(data[\"Magnitude\"])\n",
    "plt.scatter(night_nos, magnitudes)\n",
    "\n",
    "def inv_gaussian(x, sigma, mu, amp):\n",
    "    return 9 - amp*1/(sigma*np.sqrt(2*np.pi))*np.exp(-1/2*((x-mu)/sigma)**2)\n",
    "\n",
    "params, cov = scipy.optimize.curve_fit(\n",
    "        inv_gaussian, \n",
    "        xdata= night_nos, \n",
    "        ydata=magnitudes)\n",
    "    \n",
    "# params=[3,3]\n",
    "plt.plot(np.linspace(1, 50), inv_gaussian(np.linspace(1, 50), *params))\n",
    "plt.show()\n",
    "\n",
    "params[1]"
   ]
  },
  {
   "cell_type": "code",
   "execution_count": 149,
   "id": "00303fd5",
   "metadata": {},
   "outputs": [
    {
     "data": {
      "text/plain": [
       "array([ 1.8845036 ,  6.21306681, 91.73801224])"
      ]
     },
     "execution_count": 149,
     "metadata": {},
     "output_type": "execute_result"
    }
   ],
   "source": [
    "np.sqrt(np.diag(cov))"
   ]
  },
  {
   "cell_type": "markdown",
   "id": "13da0dc1",
   "metadata": {},
   "source": [
    "#### Bonus part:\n",
    "\n",
    "Can this date be trusted? We wouldn't want to claim the endoplanet is the brightest on a particular day and then have it brighten up even more later. Try to ascertain the error in this predicted date. Read the documentation of `curve_fit` and try to understand the statistical significance of the quantities it returns."
   ]
  },
  {
   "cell_type": "code",
   "execution_count": null,
   "id": "08d245f9",
   "metadata": {},
   "outputs": [],
   "source": [
    "# Solution code\n"
   ]
  }
 ],
 "metadata": {
  "kernelspec": {
   "display_name": "Python 3 (ipykernel)",
   "language": "python",
   "name": "python3"
  },
  "language_info": {
   "codemirror_mode": {
    "name": "ipython",
    "version": 3
   },
   "file_extension": ".py",
   "mimetype": "text/x-python",
   "name": "python",
   "nbconvert_exporter": "python",
   "pygments_lexer": "ipython3",
   "version": "3.9.12"
  }
 },
 "nbformat": 4,
 "nbformat_minor": 5
}
